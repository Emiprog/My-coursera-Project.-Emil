{
 "cells": [
  {
   "cell_type": "markdown",
   "metadata": {},
   "source": [
    "# My Jupyter Notebook for Coursera final project"
   ]
  },
  {
   "cell_type": "markdown",
   "metadata": {},
   "source": [
    "## **Introduction**. Fundamentals of Data Science.\n"
   ]
  },
  {
   "cell_type": "markdown",
   "metadata": {},
   "source": [
    "### Data Science languages\n",
    "* Python\n",
    "* R\n",
    "* SQL\n",
    "* Java\n",
    "* C/C++\n"
   ]
  },
  {
   "cell_type": "markdown",
   "metadata": {},
   "source": [
    "### Data Science libraries\n",
    "* NumPy\n",
    "* Pandas\n",
    "* Matplotlib\n",
    "* SciPy\n",
    "* Keras\n",
    "* PyTorch\n",
    "* Scrapy"
   ]
  },
  {
   "cell_type": "markdown",
   "metadata": {},
   "source": [
    "### Data Science tools\n",
    "\n",
    "|Model |Data Store|Transform|\n",
    "|:-----|:-----|:---|\n",
    "|Spark |MySQL  |Python  |\n",
    "|Pandas|SQLite|SQL  |"
   ]
  },
  {
   "cell_type": "markdown",
   "metadata": {},
   "source": [
    "### My code is an expression to multiply and then add integers."
   ]
  },
  {
   "cell_type": "code",
   "execution_count": 1,
   "metadata": {},
   "outputs": [
    {
     "name": "stdout",
     "output_type": "stream",
     "text": [
      "8\n"
     ]
    }
   ],
   "source": [
    "a = 1 + 1\n",
    "b = 2*3\n",
    "x = a + b\n",
    "\n",
    "print(x)"
   ]
  },
  {
   "cell_type": "code",
   "execution_count": 2,
   "metadata": {},
   "outputs": [
    {
     "name": "stdout",
     "output_type": "stream",
     "text": [
      "Enter minute:15\n",
      "15 minutes equal 0.25 hours\n"
     ]
    }
   ],
   "source": [
    "#Converting minutes to hours.\n",
    "m = int(input(\"Enter minute:\"))\n",
    "h = m / 60\n",
    "print(f\"{m} minutes equal {h} hours\")"
   ]
  },
  {
   "cell_type": "markdown",
   "metadata": {},
   "source": [
    "## Objectives\n",
    "---\n",
    "### I want to learn:\n",
    "* Python\n",
    "* SQL\n",
    "* Popular libraries\n",
    "* Statistics\n",
    "* Maths\n",
    "* Machine Learning technologies\n",
    "* Deep Learning technologies"
   ]
  },
  {
   "cell_type": "markdown",
   "metadata": {},
   "source": [
    "### Author\n",
    "---\n",
    "**Emil**"
   ]
  }
 ],
 "metadata": {
  "kernelspec": {
   "display_name": "Python 3 (ipykernel)",
   "language": "python",
   "name": "python3"
  },
  "language_info": {
   "codemirror_mode": {
    "name": "ipython",
    "version": 3
   },
   "file_extension": ".py",
   "mimetype": "text/x-python",
   "name": "python",
   "nbconvert_exporter": "python",
   "pygments_lexer": "ipython3",
   "version": "3.9.7"
  }
 },
 "nbformat": 4,
 "nbformat_minor": 4
}
